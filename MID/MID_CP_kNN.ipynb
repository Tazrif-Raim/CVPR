{
  "nbformat": 4,
  "nbformat_minor": 0,
  "metadata": {
    "colab": {
      "provenance": [],
      "authorship_tag": "ABX9TyMmZZ939eBg/uHhlCnjmiHW",
      "include_colab_link": true
    },
    "kernelspec": {
      "name": "python3",
      "display_name": "Python 3"
    },
    "language_info": {
      "name": "python"
    }
  },
  "cells": [
    {
      "cell_type": "markdown",
      "metadata": {
        "id": "view-in-github",
        "colab_type": "text"
      },
      "source": [
        "<a href=\"https://colab.research.google.com/github/Tazrif-Raim/CVPR/blob/main/MID/MID_CP_kNN.ipynb\" target=\"_parent\"><img src=\"https://colab.research.google.com/assets/colab-badge.svg\" alt=\"Open In Colab\"/></a>"
      ]
    },
    {
      "cell_type": "code",
      "execution_count": 3,
      "metadata": {
        "id": "EsnNtASq7WNp"
      },
      "outputs": [],
      "source": [
        "import numpy as np\n",
        "import cv2"
      ]
    },
    {
      "cell_type": "code",
      "source": [
        "!git clone https://github.com/YoongiKim/CIFAR-10-images.git\n",
        "import os\n",
        "os.chdir('CIFAR-10-images/train')"
      ],
      "metadata": {
        "colab": {
          "base_uri": "https://localhost:8080/"
        },
        "id": "sJgqYogCAATV",
        "outputId": "d56b3a0b-817b-4bd5-bfa4-e180952df539"
      },
      "execution_count": 2,
      "outputs": [
        {
          "output_type": "stream",
          "name": "stdout",
          "text": [
            "Cloning into 'CIFAR-10-images'...\n",
            "remote: Enumerating objects: 60027, done.\u001b[K\n",
            "remote: Total 60027 (delta 0), reused 0 (delta 0), pack-reused 60027\u001b[K\n",
            "Receiving objects: 100% (60027/60027), 19.94 MiB | 20.42 MiB/s, done.\n",
            "Resolving deltas: 100% (59990/59990), done.\n",
            "Updating files: 100% (60001/60001), done.\n"
          ]
        }
      ]
    },
    {
      "cell_type": "code",
      "source": [
        "img_data = {}\n",
        "class_names = os.listdir()"
      ],
      "metadata": {
        "id": "2fXLTfR5AHma"
      },
      "execution_count": 12,
      "outputs": []
    },
    {
      "cell_type": "code",
      "source": [
        "for class_name in class_names:\n",
        "  class_dir = os.path.join(os.getcwd(), class_name)\n",
        "  images = os.listdir(class_dir)\n",
        "  class_img = []\n",
        "\n",
        "  for img in images:\n",
        "    img_path = os.path.join(class_dir, img)\n",
        "    rgb_img = cv2.imread(img_path)\n",
        "    class_img.append(cv2.cvtColor(rgb_img, cv2.COLOR_BGR2GRAY))\n",
        "\n",
        "  img_data[class_name] = class_img"
      ],
      "metadata": {
        "id": "Ibmr73WdFwN4"
      },
      "execution_count": 15,
      "outputs": []
    },
    {
      "cell_type": "code",
      "source": [
        "for label, img in img_data.items():\n",
        "  print(f\"Label {label} : {len(img)} \")"
      ],
      "metadata": {
        "colab": {
          "base_uri": "https://localhost:8080/"
        },
        "id": "--6zo8G6HYX4",
        "outputId": "310e1a24-4632-4f83-ec68-1863e9a69948"
      },
      "execution_count": 16,
      "outputs": [
        {
          "output_type": "stream",
          "name": "stdout",
          "text": [
            "Label airplane : 5000 \n",
            "Label deer : 5000 \n",
            "Label cat : 5000 \n",
            "Label frog : 5000 \n",
            "Label ship : 5000 \n",
            "Label dog : 5000 \n",
            "Label bird : 5000 \n",
            "Label truck : 5000 \n",
            "Label automobile : 5000 \n",
            "Label horse : 5000 \n"
          ]
        }
      ]
    }
  ]
}