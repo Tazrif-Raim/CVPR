{
  "nbformat": 4,
  "nbformat_minor": 0,
  "metadata": {
    "colab": {
      "provenance": [],
      "authorship_tag": "ABX9TyNlc2lJHkKNh6EGwHRxw/KJ",
      "include_colab_link": true
    },
    "kernelspec": {
      "name": "python3",
      "display_name": "Python 3"
    },
    "language_info": {
      "name": "python"
    }
  },
  "cells": [
    {
      "cell_type": "markdown",
      "metadata": {
        "id": "view-in-github",
        "colab_type": "text"
      },
      "source": [
        "<a href=\"https://colab.research.google.com/github/Tazrif-Raim/CVPR/blob/main/MID_CP_kNN.ipynb\" target=\"_parent\"><img src=\"https://colab.research.google.com/assets/colab-badge.svg\" alt=\"Open In Colab\"/></a>"
      ]
    },
    {
      "cell_type": "code",
      "execution_count": 3,
      "metadata": {
        "id": "EsnNtASq7WNp"
      },
      "outputs": [],
      "source": [
        "import numpy as np\n",
        "import cv2"
      ]
    },
    {
      "cell_type": "code",
      "source": [
        "!git clone https://github.com/YoongiKim/CIFAR-10-images.git\n",
        "import os\n",
        "os.chdir('CIFAR-10-images/train')"
      ],
      "metadata": {
        "colab": {
          "base_uri": "https://localhost:8080/"
        },
        "id": "sJgqYogCAATV",
        "outputId": "d56b3a0b-817b-4bd5-bfa4-e180952df539"
      },
      "execution_count": 2,
      "outputs": [
        {
          "output_type": "stream",
          "name": "stdout",
          "text": [
            "Cloning into 'CIFAR-10-images'...\n",
            "remote: Enumerating objects: 60027, done.\u001b[K\n",
            "remote: Total 60027 (delta 0), reused 0 (delta 0), pack-reused 60027\u001b[K\n",
            "Receiving objects: 100% (60027/60027), 19.94 MiB | 20.42 MiB/s, done.\n",
            "Resolving deltas: 100% (59990/59990), done.\n",
            "Updating files: 100% (60001/60001), done.\n"
          ]
        }
      ]
    },
    {
      "cell_type": "code",
      "source": [
        "img_data = {}\n",
        "class_names = os.listdir()"
      ],
      "metadata": {
        "id": "2fXLTfR5AHma"
      },
      "execution_count": 4,
      "outputs": []
    },
    {
      "cell_type": "code",
      "source": [
        "for class_name in class_names:\n",
        "  class_dir = os.path.join(os.getcwd(), class_name)\n",
        "  images = os.listdir(class_dir)\n",
        "  label = class_names.index(class_name)\n",
        "  class_img = []\n",
        "\n",
        "  for img in images:\n",
        "    img_path = os.path.join(class_dir, img)\n",
        "    rgb_img = cv2.imread(img_path)\n",
        "    class_img.append(cv2.cvtColor(rgb_img, cv2.COLOR_BGR2GRAY))\n",
        "\n",
        "  img_data[label] = class_img"
      ],
      "metadata": {
        "id": "Ibmr73WdFwN4"
      },
      "execution_count": 9,
      "outputs": []
    },
    {
      "cell_type": "code",
      "source": [
        "for label, img in img_data.items():\n",
        "  print(f\"Label {label} : {len(img)} \")"
      ],
      "metadata": {
        "colab": {
          "base_uri": "https://localhost:8080/"
        },
        "id": "--6zo8G6HYX4",
        "outputId": "f472d061-3be9-49dd-a4ee-fc5478f0b362"
      },
      "execution_count": 7,
      "outputs": [
        {
          "output_type": "stream",
          "name": "stdout",
          "text": [
            "Label 0 : 5000 \n",
            "Label 1 : 5000 \n",
            "Label 2 : 5000 \n",
            "Label 3 : 5000 \n",
            "Label 4 : 5000 \n",
            "Label 5 : 5000 \n",
            "Label 6 : 5000 \n",
            "Label 7 : 5000 \n",
            "Label 8 : 5000 \n",
            "Label 9 : 5000 \n"
          ]
        }
      ]
    }
  ]
}